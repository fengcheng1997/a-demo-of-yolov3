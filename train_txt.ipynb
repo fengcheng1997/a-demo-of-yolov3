{
 "cells": [
  {
   "cell_type": "code",
   "execution_count": 2,
   "metadata": {},
   "outputs": [],
   "source": [
    "import glob\n",
    "\n",
    "# 将图片名称储存在train.txt中\n",
    "jpg_name = glob.glob('/home/lsc/a409/users/lisuicheng/my_prog_of_python/POI/yolov3/data/poi/images/train/*.*')\n",
    "\n",
    "with open('/home/lsc/a409/users/lisuicheng/my_prog_of_python/POI/yolov3/data/poi/train.txt', 'w') as f:\n",
    "    for name in jpg_name:\n",
    "        name = name.replace('/home/lsc', '/mnt')\n",
    "        f.writelines('%s\\n' % name)"
   ]
  }
 ],
 "metadata": {
  "kernelspec": {
   "display_name": "Python 3",
   "language": "python",
   "name": "python3"
  },
  "language_info": {
   "codemirror_mode": {
    "name": "ipython",
    "version": 3
   },
   "file_extension": ".py",
   "mimetype": "text/x-python",
   "name": "python",
   "nbconvert_exporter": "python",
   "pygments_lexer": "ipython3",
   "version": "3.6.3"
  }
 },
 "nbformat": 4,
 "nbformat_minor": 2
}
